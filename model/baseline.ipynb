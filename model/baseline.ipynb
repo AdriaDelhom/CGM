{
 "cells": [
  {
   "cell_type": "code",
   "execution_count": 2,
   "metadata": {},
   "outputs": [],
   "source": [
    "import pandas as pd\n",
    "import numpy as np\n",
    "import matplotlib.pyplot as plt"
   ]
  },
  {
   "cell_type": "code",
   "execution_count": 9,
   "metadata": {},
   "outputs": [
    {
     "ename": "ModuleNotFoundError",
     "evalue": "No module named 'data_processing'",
     "output_type": "error",
     "traceback": [
      "\u001b[1;31m---------------------------------------------------------------------------\u001b[0m",
      "\u001b[1;31mModuleNotFoundError\u001b[0m                       Traceback (most recent call last)",
      "Cell \u001b[1;32mIn[9], line 1\u001b[0m\n\u001b[1;32m----> 1\u001b[0m \u001b[38;5;28;01mfrom\u001b[39;00m \u001b[38;5;21;01mcgm_data\u001b[39;00m \u001b[38;5;28;01mimport\u001b[39;00m CGMData, DATA_PATH\n\u001b[0;32m      2\u001b[0m \u001b[38;5;28;01mfrom\u001b[39;00m \u001b[38;5;21;01mcgm_data_helper\u001b[39;00m \u001b[38;5;28;01mimport\u001b[39;00m plot_series_with_food\n\u001b[0;32m      3\u001b[0m \u001b[38;5;28;01mfrom\u001b[39;00m \u001b[38;5;21;01mderived_datasets\u001b[39;00m \u001b[38;5;28;01mimport\u001b[39;00m max_glucose_dataset,max_glucose_between_meals_dataset\n",
      "File \u001b[1;32mc:\\Users\\maggi\\Documents\\GitHub\\CGM\\model\\..\\data_processing\\cgm_data.py:4\u001b[0m\n\u001b[0;32m      1\u001b[0m \u001b[38;5;28;01mfrom\u001b[39;00m \u001b[38;5;21;01mtyping\u001b[39;00m \u001b[38;5;28;01mimport\u001b[39;00m Dict\n\u001b[0;32m      2\u001b[0m \u001b[38;5;28;01mimport\u001b[39;00m \u001b[38;5;21;01mpandas\u001b[39;00m \u001b[38;5;28;01mas\u001b[39;00m \u001b[38;5;21;01mpd\u001b[39;00m\n\u001b[1;32m----> 4\u001b[0m \u001b[38;5;28;01mfrom\u001b[39;00m \u001b[38;5;21;01mdata_processing\u001b[39;00m\u001b[38;5;21;01m.\u001b[39;00m\u001b[38;5;21;01mconstants\u001b[39;00m \u001b[38;5;28;01mimport\u001b[39;00m ACC_G_MODE, SMALL_G\n\u001b[0;32m      6\u001b[0m DATA_PATH \u001b[38;5;241m=\u001b[39m \u001b[38;5;124m\"\u001b[39m\u001b[38;5;124mdata\u001b[39m\u001b[38;5;124m\"\u001b[39m\n\u001b[0;32m      9\u001b[0m \u001b[38;5;28;01mclass\u001b[39;00m \u001b[38;5;21;01mPatient\u001b[39;00m:\n",
      "\u001b[1;31mModuleNotFoundError\u001b[0m: No module named 'data_processing'"
     ]
    }
   ],
   "source": [
    "from data_processing.cgm_data import CGMData, DATA_PATH\n",
    "from data_processing.cgm_data_helper import plot_series_with_food\n",
    "from data_processing.derived_datasets import max_glucose_dataset,max_glucose_between_meals_dataset\n",
    "\n",
    "from sklearn.linear_model import LinearRegression"
   ]
  },
  {
   "cell_type": "code",
   "execution_count": null,
   "metadata": {},
   "outputs": [],
   "source": [
    "# Finding 5/95th percentile idea from Dan Visscher\n",
    "\n",
    "high_glu = []\n",
    "low_glu = []\n",
    "\n",
    "# Find 5th/95th percentile for glucose range for each patient\n",
    "for i in range(1,17):\n",
    "    low_glu.append(np.percentile(data[i].glu, 5))\n",
    "    high_glu.append(np.percentile(data[i].glu, 95))\n"
   ]
  },
  {
   "cell_type": "code",
   "execution_count": null,
   "metadata": {},
   "outputs": [],
   "source": [
    "    \n",
    "# Max glucose between meals:\n",
    "# Use a glu_thresh of 95th percentile?\n",
    "df = max_glucose_dataset(cgm_data=data,participant_num=5,glu_thresh=130).head(30)\n",
    "df\n",
    "\n",
    "food5 = data[5].food\n",
    "glu5 = pd.read_csv('data/005/Dexcom_005.csv', header=0, skiprows=range(1, 13), index_col=['Timestamp (YYYY-MM-DDThh:mm:ss)'], parse_dates=['Timestamp (YYYY-MM-DDThh:mm:ss)'])\n",
    "\n",
    "plot_series_with_food(glu5, food5, '2020-02-27', '2020-02-29', 'Glucose Value (mg/dL)')\n",
    "\n",
    "data[5].glu\n"
   ]
  },
  {
   "cell_type": "code",
   "execution_count": null,
   "metadata": {},
   "outputs": [],
   "source": [
    "X = df[['total_carb','sugar','protein']]\n",
    "y = df[['high_glucose']]\n",
    "y"
   ]
  },
  {
   "cell_type": "code",
   "execution_count": null,
   "metadata": {},
   "outputs": [],
   "source": [
    "## Make the model object\n",
    "\n",
    "reg = LinearRegression()\n",
    "\n",
    "## Fit the model object\n",
    "\n",
    "reg.fit(X, y)\n",
    "reg.coef_, reg.intercept_"
   ]
  },
  {
   "cell_type": "code",
   "execution_count": null,
   "metadata": {},
   "outputs": [],
   "source": [
    "plt.figure(figsize=(6,5))\n",
    "\n",
    "plt.scatter(df['total_carb'], df['high_glucose'])\n",
    "\n",
    "plt.xlabel(\"total_carb\", fontsize=12)\n",
    "plt.ylabel(\"high_glucose\", fontsize=12)\n",
    "plt.show()"
   ]
  },
  {
   "cell_type": "code",
   "execution_count": null,
   "metadata": {},
   "outputs": [],
   "source": [
    "log_reg = LogisticRegression(penalty=None)\n",
    "X = df[['total_carb']]\n",
    "y = df['high_glucose']\n",
    "\n",
    "## fit the model\n",
    "log_reg.fit(X,y)"
   ]
  },
  {
   "cell_type": "code",
   "execution_count": null,
   "metadata": {},
   "outputs": [],
   "source": [
    "log_reg.coef_[0][0]"
   ]
  },
  {
   "cell_type": "code",
   "execution_count": null,
   "metadata": {},
   "outputs": [],
   "source": [
    "plt.figure(figsize=(6,5))\n",
    "\n",
    "plt.scatter(X, y)\n",
    "\n",
    "plt.plot(np.linspace(0,160), log_reg.predict_proba(np.linspace(0,160).reshape(-1,1))[:,1], color = 'orange')\n",
    "#plt.plot(np.linspace(7,13), my_log_reg.predict_proba(np.linspace(7,13).reshape(-1,1)), c = 'k')\n",
    "\n",
    "plt.xlabel(\"total_carb\", fontsize=12)\n",
    "plt.ylabel(\"high_glucose\", fontsize=12)\n",
    "plt.show()"
   ]
  }
 ],
 "metadata": {
  "kernelspec": {
   "display_name": "erdos_may_2024",
   "language": "python",
   "name": "python3"
  },
  "language_info": {
   "codemirror_mode": {
    "name": "ipython",
    "version": 3
   },
   "file_extension": ".py",
   "mimetype": "text/x-python",
   "name": "python",
   "nbconvert_exporter": "python",
   "pygments_lexer": "ipython3",
   "version": "3.9.15"
  }
 },
 "nbformat": 4,
 "nbformat_minor": 2
}
