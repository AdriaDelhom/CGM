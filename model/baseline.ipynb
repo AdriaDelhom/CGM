{
 "cells": [
  {
   "cell_type": "code",
   "execution_count": 2,
   "metadata": {},
   "outputs": [],
   "source": [
    "import pandas as pd\n",
    "import numpy as np\n",
    "import matplotlib.pyplot as plt"
   ]
  },
  {
   "cell_type": "code",
   "execution_count": 15,
   "metadata": {},
   "outputs": [],
   "source": [
    "# need this cell to import the help functions:\n",
    "\n",
    "import os\n",
    "path_sections = os.getcwd().split('\\\\')\n",
    "if path_sections[0] != 'CGM':\n",
    "    os.chdir('./..')"
   ]
  },
  {
   "cell_type": "code",
   "execution_count": 16,
   "metadata": {},
   "outputs": [],
   "source": [
    "# import help functions:\n",
    "\n",
    "from data_processing.cgm_data import CGMData\n",
    "from data_processing.cgm_data_helper import plot_series_with_food\n",
    "from data_processing.derived_datasets import max_glucose_dataset,max_glucose_between_meals_dataset\n",
    "\n",
    "from sklearn.linear_model import LinearRegression"
   ]
  },
  {
   "cell_type": "code",
   "execution_count": 18,
   "metadata": {},
   "outputs": [],
   "source": [
    "data = CGMData()"
   ]
  },
  {
   "cell_type": "code",
   "execution_count": 20,
   "metadata": {},
   "outputs": [
    {
     "name": "stdout",
     "output_type": "stream",
     "text": [
      "None\n",
      "None\n",
      "None\n",
      "None\n"
     ]
    }
   ],
   "source": [
    "# Finding 5/95th percentile idea from Dan Visscher\n",
    "\n",
    "high_glu = []\n",
    "low_glu = []\n",
    "\n",
    "# Find 5th/95th percentile for glucose range for each patient\n",
    "for i in range(1,3):\n",
    "    print(low_glu.append(np.percentile(data[i].glu, 5)))\n",
    "    print(high_glu.append(np.percentile(data[i].glu, 95)))\n",
    "\n",
    "\n"
   ]
  },
  {
   "cell_type": "code",
   "execution_count": null,
   "metadata": {},
   "outputs": [],
   "source": [
    "    \n",
    "# Max glucose between meals:\n",
    "# Use a glu_thresh of 95th percentile?\n",
    "df = max_glucose_dataset(cgm_data=data,participant_num=5,glu_thresh=130).head(30)\n",
    "df\n",
    "\n",
    "food5 = data[5].food\n",
    "glu5 = pd.read_csv('data/005/Dexcom_005.csv', header=0, skiprows=range(1, 13), index_col=['Timestamp (YYYY-MM-DDThh:mm:ss)'], parse_dates=['Timestamp (YYYY-MM-DDThh:mm:ss)'])\n",
    "\n",
    "plot_series_with_food(glu5, food5, '2020-02-27', '2020-02-29', 'Glucose Value (mg/dL)')\n",
    "\n",
    "data[5].glu\n"
   ]
  },
  {
   "cell_type": "code",
   "execution_count": null,
   "metadata": {},
   "outputs": [],
   "source": [
    "X = df[['total_carb','sugar','protein']]\n",
    "y = df[['high_glucose']]\n",
    "y"
   ]
  },
  {
   "cell_type": "code",
   "execution_count": null,
   "metadata": {},
   "outputs": [],
   "source": [
    "## Make the model object\n",
    "\n",
    "reg = LinearRegression()\n",
    "\n",
    "## Fit the model object\n",
    "\n",
    "reg.fit(X, y)\n",
    "reg.coef_, reg.intercept_"
   ]
  },
  {
   "cell_type": "code",
   "execution_count": null,
   "metadata": {},
   "outputs": [],
   "source": [
    "plt.figure(figsize=(6,5))\n",
    "\n",
    "plt.scatter(df['total_carb'], df['high_glucose'])\n",
    "\n",
    "plt.xlabel(\"total_carb\", fontsize=12)\n",
    "plt.ylabel(\"high_glucose\", fontsize=12)\n",
    "plt.show()"
   ]
  },
  {
   "cell_type": "code",
   "execution_count": null,
   "metadata": {},
   "outputs": [],
   "source": [
    "log_reg = LogisticRegression(penalty=None)\n",
    "X = df[['total_carb']]\n",
    "y = df['high_glucose']\n",
    "\n",
    "## fit the model\n",
    "log_reg.fit(X,y)"
   ]
  },
  {
   "cell_type": "code",
   "execution_count": null,
   "metadata": {},
   "outputs": [],
   "source": [
    "log_reg.coef_[0][0]"
   ]
  },
  {
   "cell_type": "code",
   "execution_count": null,
   "metadata": {},
   "outputs": [],
   "source": [
    "plt.figure(figsize=(6,5))\n",
    "\n",
    "plt.scatter(X, y)\n",
    "\n",
    "plt.plot(np.linspace(0,160), log_reg.predict_proba(np.linspace(0,160).reshape(-1,1))[:,1], color = 'orange')\n",
    "#plt.plot(np.linspace(7,13), my_log_reg.predict_proba(np.linspace(7,13).reshape(-1,1)), c = 'k')\n",
    "\n",
    "plt.xlabel(\"total_carb\", fontsize=12)\n",
    "plt.ylabel(\"high_glucose\", fontsize=12)\n",
    "plt.show()"
   ]
  }
 ],
 "metadata": {
  "kernelspec": {
   "display_name": "erdos_may_2024",
   "language": "python",
   "name": "python3"
  },
  "language_info": {
   "codemirror_mode": {
    "name": "ipython",
    "version": 3
   },
   "file_extension": ".py",
   "mimetype": "text/x-python",
   "name": "python",
   "nbconvert_exporter": "python",
   "pygments_lexer": "ipython3",
   "version": "3.9.15"
  }
 },
 "nbformat": 4,
 "nbformat_minor": 2
}
